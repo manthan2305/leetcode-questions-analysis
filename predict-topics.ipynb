{
 "cells": [
  {
   "cell_type": "code",
   "execution_count": 1,
   "id": "307d56ce",
   "metadata": {},
   "outputs": [
    {
     "name": "stderr",
     "output_type": "stream",
     "text": [
      "/tmp/ipykernel_13421/3777615979.py:1: DeprecationWarning: Importing display from IPython.core.display is deprecated since IPython 7.14, please import from IPython display\n",
      "  from IPython.core.display import display, HTML\n"
     ]
    },
    {
     "data": {
      "text/html": [
       "<style>.container { width:100% !important; }</style>"
      ],
      "text/plain": [
       "<IPython.core.display.HTML object>"
      ]
     },
     "metadata": {},
     "output_type": "display_data"
    }
   ],
   "source": [
    "from IPython.core.display import display, HTML\n",
    "display(HTML(\"<style>.container { width:100% !important; }</style>\"))"
   ]
  },
  {
   "cell_type": "code",
   "execution_count": 34,
   "id": "6a5fb7b2",
   "metadata": {},
   "outputs": [],
   "source": [
    "import pandas as pd\n",
    "import numpy as np\n",
    "import json\n",
    "import nltk\n",
    "import re\n",
    "import matplotlib.pyplot as plt \n",
    "import seaborn as sns\n",
    "from sklearn.feature_extraction.text import TfidfVectorizer\n",
    "from sklearn.model_selection import train_test_split\n",
    "from sklearn.linear_model import LogisticRegression\n",
    "from sklearn.multiclass import OneVsRestClassifier\n",
    "from sklearn.metrics import f1_score\n",
    "from sklearn.preprocessing import MultiLabelBinarizer\n",
    "from sklearn.svm import LinearSVC"
   ]
  },
  {
   "cell_type": "code",
   "execution_count": 3,
   "id": "13ef72ea",
   "metadata": {},
   "outputs": [],
   "source": [
    "df = pd.read_csv('data/all_questions_data.csv')"
   ]
  },
  {
   "cell_type": "code",
   "execution_count": 4,
   "id": "3c53984b",
   "metadata": {},
   "outputs": [
    {
     "data": {
      "text/html": [
       "<div>\n",
       "<style scoped>\n",
       "    .dataframe tbody tr th:only-of-type {\n",
       "        vertical-align: middle;\n",
       "    }\n",
       "\n",
       "    .dataframe tbody tr th {\n",
       "        vertical-align: top;\n",
       "    }\n",
       "\n",
       "    .dataframe thead th {\n",
       "        text-align: right;\n",
       "    }\n",
       "</style>\n",
       "<table border=\"1\" class=\"dataframe\">\n",
       "  <thead>\n",
       "    <tr style=\"text-align: right;\">\n",
       "      <th></th>\n",
       "      <th>Question Title</th>\n",
       "      <th>Question Slug</th>\n",
       "      <th>Question ID</th>\n",
       "      <th>Question Text</th>\n",
       "      <th>Topic Tagged text</th>\n",
       "      <th>Topic Tagged ID</th>\n",
       "      <th>Difficulty Level</th>\n",
       "      <th>Success Rate</th>\n",
       "      <th>total submission</th>\n",
       "      <th>total accepted</th>\n",
       "      <th>company tag</th>\n",
       "      <th>Likes</th>\n",
       "      <th>Dislikes</th>\n",
       "      <th>Hints</th>\n",
       "      <th>Similar Questions ID</th>\n",
       "      <th>Similar Questions Text</th>\n",
       "    </tr>\n",
       "  </thead>\n",
       "  <tbody>\n",
       "    <tr>\n",
       "      <th>0</th>\n",
       "      <td>Minimum Interval to Include Each Query</td>\n",
       "      <td>minimum-interval-to-include-each-query</td>\n",
       "      <td>1977</td>\n",
       "      <td>You are given a 2D integer array intervals, wh...</td>\n",
       "      <td>Array,Binary Search,Line Sweep,Sorting,Heap (P...</td>\n",
       "      <td>VG9waWNUYWdOb2RlOjU=,VG9waWNUYWdOb2RlOjEx,VG9w...</td>\n",
       "      <td>Hard</td>\n",
       "      <td>45.5</td>\n",
       "      <td>14492</td>\n",
       "      <td>6599</td>\n",
       "      <td>NaN</td>\n",
       "      <td>336</td>\n",
       "      <td>6</td>\n",
       "      <td>Is there a way to order the intervals and quer...</td>\n",
       "      <td>NaN</td>\n",
       "      <td>NaN</td>\n",
       "    </tr>\n",
       "    <tr>\n",
       "      <th>1</th>\n",
       "      <td>Distinct Numbers in Each Subarray</td>\n",
       "      <td>distinct-numbers-in-each-subarray</td>\n",
       "      <td>2003</td>\n",
       "      <td>NaN</td>\n",
       "      <td>Array,Hash Table,Sliding Window</td>\n",
       "      <td>VG9waWNUYWdOb2RlOjU=,VG9waWNUYWdOb2RlOjY=,VG9w...</td>\n",
       "      <td>Medium</td>\n",
       "      <td>72.6</td>\n",
       "      <td>5116</td>\n",
       "      <td>3712</td>\n",
       "      <td>NaN</td>\n",
       "      <td>73</td>\n",
       "      <td>3</td>\n",
       "      <td>Keep a frequency map of the elements in each w...</td>\n",
       "      <td>NaN</td>\n",
       "      <td>NaN</td>\n",
       "    </tr>\n",
       "    <tr>\n",
       "      <th>2</th>\n",
       "      <td>Convert Date Format</td>\n",
       "      <td>convert-date-format</td>\n",
       "      <td>2004</td>\n",
       "      <td>NaN</td>\n",
       "      <td>Database</td>\n",
       "      <td>VG9waWNUYWdOb2RlOjYxMDQz</td>\n",
       "      <td>Easy</td>\n",
       "      <td>87.8</td>\n",
       "      <td>7506</td>\n",
       "      <td>6589</td>\n",
       "      <td>NaN</td>\n",
       "      <td>28</td>\n",
       "      <td>31</td>\n",
       "      <td>NaN</td>\n",
       "      <td>NaN</td>\n",
       "      <td>NaN</td>\n",
       "    </tr>\n",
       "    <tr>\n",
       "      <th>3</th>\n",
       "      <td>Maximum Population Year</td>\n",
       "      <td>maximum-population-year</td>\n",
       "      <td>1983</td>\n",
       "      <td>You are given a 2D integer array logs where ea...</td>\n",
       "      <td>Array,Counting</td>\n",
       "      <td>VG9waWNUYWdOb2RlOjU=,VG9waWNUYWdOb2RlOjYxMDYy</td>\n",
       "      <td>Easy</td>\n",
       "      <td>58.6</td>\n",
       "      <td>49364</td>\n",
       "      <td>28951</td>\n",
       "      <td>NaN</td>\n",
       "      <td>539</td>\n",
       "      <td>77</td>\n",
       "      <td>For each year find the number of people whose ...</td>\n",
       "      <td>NaN</td>\n",
       "      <td>NaN</td>\n",
       "    </tr>\n",
       "    <tr>\n",
       "      <th>4</th>\n",
       "      <td>Maximum Distance Between a Pair of Values</td>\n",
       "      <td>maximum-distance-between-a-pair-of-values</td>\n",
       "      <td>1984</td>\n",
       "      <td>You are given two non-increasing 0-indexed int...</td>\n",
       "      <td>Array,Two Pointers,Binary Search,Greedy</td>\n",
       "      <td>VG9waWNUYWdOb2RlOjU=,VG9waWNUYWdOb2RlOjk=,VG9w...</td>\n",
       "      <td>Medium</td>\n",
       "      <td>50.0</td>\n",
       "      <td>43219</td>\n",
       "      <td>21602</td>\n",
       "      <td>NaN</td>\n",
       "      <td>564</td>\n",
       "      <td>11</td>\n",
       "      <td>Since both arrays are sorted in a non-increasi...</td>\n",
       "      <td>2199</td>\n",
       "      <td>Two Furthest Houses With Different Colors</td>\n",
       "    </tr>\n",
       "  </tbody>\n",
       "</table>\n",
       "</div>"
      ],
      "text/plain": [
       "                              Question Title  \\\n",
       "0     Minimum Interval to Include Each Query   \n",
       "1          Distinct Numbers in Each Subarray   \n",
       "2                        Convert Date Format   \n",
       "3                    Maximum Population Year   \n",
       "4  Maximum Distance Between a Pair of Values   \n",
       "\n",
       "                               Question Slug  Question ID  \\\n",
       "0     minimum-interval-to-include-each-query         1977   \n",
       "1          distinct-numbers-in-each-subarray         2003   \n",
       "2                        convert-date-format         2004   \n",
       "3                    maximum-population-year         1983   \n",
       "4  maximum-distance-between-a-pair-of-values         1984   \n",
       "\n",
       "                                       Question Text  \\\n",
       "0  You are given a 2D integer array intervals, wh...   \n",
       "1                                                NaN   \n",
       "2                                                NaN   \n",
       "3  You are given a 2D integer array logs where ea...   \n",
       "4  You are given two non-increasing 0-indexed int...   \n",
       "\n",
       "                                   Topic Tagged text  \\\n",
       "0  Array,Binary Search,Line Sweep,Sorting,Heap (P...   \n",
       "1                    Array,Hash Table,Sliding Window   \n",
       "2                                           Database   \n",
       "3                                     Array,Counting   \n",
       "4            Array,Two Pointers,Binary Search,Greedy   \n",
       "\n",
       "                                     Topic Tagged ID Difficulty Level  \\\n",
       "0  VG9waWNUYWdOb2RlOjU=,VG9waWNUYWdOb2RlOjEx,VG9w...             Hard   \n",
       "1  VG9waWNUYWdOb2RlOjU=,VG9waWNUYWdOb2RlOjY=,VG9w...           Medium   \n",
       "2                           VG9waWNUYWdOb2RlOjYxMDQz             Easy   \n",
       "3      VG9waWNUYWdOb2RlOjU=,VG9waWNUYWdOb2RlOjYxMDYy             Easy   \n",
       "4  VG9waWNUYWdOb2RlOjU=,VG9waWNUYWdOb2RlOjk=,VG9w...           Medium   \n",
       "\n",
       "   Success Rate  total submission  total accepted  company tag  Likes  \\\n",
       "0          45.5             14492            6599          NaN    336   \n",
       "1          72.6              5116            3712          NaN     73   \n",
       "2          87.8              7506            6589          NaN     28   \n",
       "3          58.6             49364           28951          NaN    539   \n",
       "4          50.0             43219           21602          NaN    564   \n",
       "\n",
       "   Dislikes                                              Hints  \\\n",
       "0         6  Is there a way to order the intervals and quer...   \n",
       "1         3  Keep a frequency map of the elements in each w...   \n",
       "2        31                                                NaN   \n",
       "3        77  For each year find the number of people whose ...   \n",
       "4        11  Since both arrays are sorted in a non-increasi...   \n",
       "\n",
       "  Similar Questions ID                     Similar Questions Text  \n",
       "0                  NaN                                        NaN  \n",
       "1                  NaN                                        NaN  \n",
       "2                  NaN                                        NaN  \n",
       "3                  NaN                                        NaN  \n",
       "4                 2199  Two Furthest Houses With Different Colors  "
      ]
     },
     "execution_count": 4,
     "metadata": {},
     "output_type": "execute_result"
    }
   ],
   "source": [
    "df.head()"
   ]
  },
  {
   "cell_type": "code",
   "execution_count": 5,
   "id": "e4a6928a",
   "metadata": {},
   "outputs": [],
   "source": [
    "# Remove null values\n",
    "\n",
    "df = df[['Question Title','Question Text', 'Topic Tagged text']].dropna()"
   ]
  },
  {
   "cell_type": "code",
   "execution_count": 6,
   "id": "be0b0f33",
   "metadata": {},
   "outputs": [],
   "source": [
    "# Combine Text and description\n",
    "df['text_all'] = df.apply(lambda x: x['Question Title'] + x['Question Text'], axis=1)"
   ]
  },
  {
   "cell_type": "code",
   "execution_count": 7,
   "id": "db1cd7ae",
   "metadata": {},
   "outputs": [],
   "source": [
    "# Text cleaning\n",
    "\n",
    "def clean_text(text):\n",
    "    # remove backslash-apostrophe\n",
    "    text = re.sub(\"\\'\", \"\", text)\n",
    "    # remove everything except alphabets\n",
    "    text = re.sub(\"[^a-zA-Z]\",\" \",text)\n",
    "     # remove whitespaces \n",
    "    text = ' '.join(text.split())\n",
    "    # convert text to lowercase \n",
    "    text = text.lower() \n",
    "    \n",
    "    return text\n",
    "\n",
    "df['text_new'] = df['text_all'].apply(lambda x: clean_text(x))"
   ]
  },
  {
   "cell_type": "code",
   "execution_count": 9,
   "id": "742b9595",
   "metadata": {},
   "outputs": [
    {
     "data": {
      "text/html": [
       "<div>\n",
       "<style scoped>\n",
       "    .dataframe tbody tr th:only-of-type {\n",
       "        vertical-align: middle;\n",
       "    }\n",
       "\n",
       "    .dataframe tbody tr th {\n",
       "        vertical-align: top;\n",
       "    }\n",
       "\n",
       "    .dataframe thead th {\n",
       "        text-align: right;\n",
       "    }\n",
       "</style>\n",
       "<table border=\"1\" class=\"dataframe\">\n",
       "  <thead>\n",
       "    <tr style=\"text-align: right;\">\n",
       "      <th></th>\n",
       "      <th>text_all</th>\n",
       "      <th>text_new</th>\n",
       "    </tr>\n",
       "  </thead>\n",
       "  <tbody>\n",
       "    <tr>\n",
       "      <th>0</th>\n",
       "      <td>Minimum Interval to Include Each QueryYou are ...</td>\n",
       "      <td>minimum interval to include each queryyou are ...</td>\n",
       "    </tr>\n",
       "    <tr>\n",
       "      <th>3</th>\n",
       "      <td>Maximum Population YearYou are given a 2D inte...</td>\n",
       "      <td>maximum population yearyou are given a d integ...</td>\n",
       "    </tr>\n",
       "    <tr>\n",
       "      <th>4</th>\n",
       "      <td>Maximum Distance Between a Pair of ValuesYou a...</td>\n",
       "      <td>maximum distance between a pair of valuesyou a...</td>\n",
       "    </tr>\n",
       "    <tr>\n",
       "      <th>5</th>\n",
       "      <td>Maximum Subarray Min-ProductThe min-product of...</td>\n",
       "      <td>maximum subarray min productthe min product of...</td>\n",
       "    </tr>\n",
       "    <tr>\n",
       "      <th>6</th>\n",
       "      <td>Largest Color Value in a Directed GraphThere i...</td>\n",
       "      <td>largest color value in a directed graphthere i...</td>\n",
       "    </tr>\n",
       "  </tbody>\n",
       "</table>\n",
       "</div>"
      ],
      "text/plain": [
       "                                            text_all  \\\n",
       "0  Minimum Interval to Include Each QueryYou are ...   \n",
       "3  Maximum Population YearYou are given a 2D inte...   \n",
       "4  Maximum Distance Between a Pair of ValuesYou a...   \n",
       "5  Maximum Subarray Min-ProductThe min-product of...   \n",
       "6  Largest Color Value in a Directed GraphThere i...   \n",
       "\n",
       "                                            text_new  \n",
       "0  minimum interval to include each queryyou are ...  \n",
       "3  maximum population yearyou are given a d integ...  \n",
       "4  maximum distance between a pair of valuesyou a...  \n",
       "5  maximum subarray min productthe min product of...  \n",
       "6  largest color value in a directed graphthere i...  "
      ]
     },
     "execution_count": 9,
     "metadata": {},
     "output_type": "execute_result"
    }
   ],
   "source": [
    "df[['text_all','text_new']].head()"
   ]
  },
  {
   "cell_type": "code",
   "execution_count": 12,
   "id": "a8cdd399",
   "metadata": {},
   "outputs": [
    {
     "data": {
      "image/png": "[encoded data removed]",
      "text/plain": [
       "<Figure size 864x1080 with 1 Axes>"
      ]
     },
     "metadata": {
      "needs_background": "light"
     },
     "output_type": "display_data"
    }
   ],
   "source": [
    "# Find most frequent words\n",
    "\n",
    "def freq_words(x, terms = 30): \n",
    "    all_words = ' '.join([text for text in x]) \n",
    "    all_words = all_words.split() \n",
    "    fdist = nltk.FreqDist(all_words) \n",
    "    words_df = pd.DataFrame({'word':list(fdist.keys()), 'count':list(fdist.values())}) \n",
    "\n",
    "    # selecting top 20 most frequent words \n",
    "    d = words_df.nlargest(columns=\"count\", n = terms) \n",
    "\n",
    "    # visualize words and frequencies\n",
    "    plt.figure(figsize=(12,15)) \n",
    "    ax = sns.barplot(data=d, x= \"count\", y = \"word\") \n",
    "    ax.set(ylabel = 'Word') \n",
    "    plt.show()\n",
    "\n",
    "# Top 50\n",
    "freq_words(df['text_new'], 50)"
   ]
  },
  {
   "cell_type": "code",
   "execution_count": 13,
   "id": "ad668523",
   "metadata": {},
   "outputs": [
    {
     "name": "stderr",
     "output_type": "stream",
     "text": [
      "[nltk_data] Downloading package stopwords to\n",
      "[nltk_data]     /home/manthan/nltk_data...\n",
      "[nltk_data]   Package stopwords is already up-to-date!\n"
     ]
    }
   ],
   "source": [
    "# Remove stopwords\n",
    "\n",
    "nltk.download('stopwords')\n",
    "\n",
    "from nltk.corpus import stopwords\n",
    "stop_words = set(stopwords.words('english'))\n",
    "\n",
    "# function to remove\n",
    "def remove_stopwords(text):\n",
    "    no_stopword_text = [w for w in text.split() if not w in stop_words]\n",
    "    return \" \".join(no_stopword_text)\n",
    "\n",
    "df['text_new'] = df['text_new'].apply(lambda x:remove_stopwords(x))"
   ]
  },
  {
   "cell_type": "code",
   "execution_count": 14,
   "id": "6fb57ff9",
   "metadata": {},
   "outputs": [
    {
     "data": {
      "image/png": "[encoded data removed]",
      "text/plain": [
       "<Figure size 864x1080 with 1 Axes>"
      ]
     },
     "metadata": {
      "needs_background": "light"
     },
     "output_type": "display_data"
    }
   ],
   "source": [
    "freq_words(df['text_new'], 50)"
   ]
  },
  {
   "cell_type": "code",
   "execution_count": 15,
   "id": "2da45332",
   "metadata": {},
   "outputs": [],
   "source": [
    "# Transform Label (topics) from str to list\n",
    "\n",
    "df['topics_new'] = df['Topic Tagged text'].apply(lambda x: x.split(','))"
   ]
  },
  {
   "cell_type": "code",
   "execution_count": 16,
   "id": "33076a1f",
   "metadata": {},
   "outputs": [
    {
     "data": {
      "text/plain": [
       "0       [Array, Binary Search, Line Sweep, Sorting, He...\n",
       "3                                       [Array, Counting]\n",
       "4            [Array, Two Pointers, Binary Search, Greedy]\n",
       "5             [Array, Stack, Monotonic Stack, Prefix Sum]\n",
       "6       [Hash Table, Dynamic Programming, Graph, Topol...\n",
       "                              ...                        \n",
       "2233                 [Array, Hash Table, Greedy, Sorting]\n",
       "2234    [Dynamic Programming, Bit Manipulation, Breadt...\n",
       "2235                                      [Array, String]\n",
       "2236                                              [Array]\n",
       "2237       [Array, Segment Tree, Line Sweep, Ordered Set]\n",
       "Name: topics_new, Length: 1758, dtype: object"
      ]
     },
     "execution_count": 16,
     "metadata": {},
     "output_type": "execute_result"
    }
   ],
   "source": [
    "df['topics_new']"
   ]
  },
  {
   "cell_type": "code",
   "execution_count": 17,
   "id": "e588cc21",
   "metadata": {},
   "outputs": [],
   "source": [
    "# converting text List to features\n",
    "\n",
    "multilabel_binarizer = MultiLabelBinarizer()\n",
    "multilabel_binarizer.fit(df['topics_new'])\n",
    "\n",
    "# transform target variables\n",
    "y = multilabel_binarizer.transform(df['topics_new'])"
   ]
  },
  {
   "cell_type": "code",
   "execution_count": 18,
   "id": "73b59a60",
   "metadata": {},
   "outputs": [
    {
     "data": {
      "text/plain": [
       "71"
      ]
     },
     "execution_count": 18,
     "metadata": {},
     "output_type": "execute_result"
    }
   ],
   "source": [
    "len(y[0])"
   ]
  },
  {
   "cell_type": "code",
   "execution_count": 19,
   "id": "3afa7c00",
   "metadata": {},
   "outputs": [],
   "source": [
    "# Feature Extractions\n",
    "tfidf_vectorizer = TfidfVectorizer(max_df=0.8, max_features=5000)"
   ]
  },
  {
   "cell_type": "code",
   "execution_count": 20,
   "id": "311054db",
   "metadata": {},
   "outputs": [],
   "source": [
    "# Split out train, val set\n",
    "xtrain, xval, ytrain, yval = train_test_split(df['text_new'], y, test_size=0.2, random_state=42)"
   ]
  },
  {
   "cell_type": "code",
   "execution_count": 21,
   "id": "180864d0",
   "metadata": {},
   "outputs": [],
   "source": [
    "# create TF-IDF features\n",
    "xtrain_tfidf = tfidf_vectorizer.fit_transform(xtrain)\n",
    "xval_tfidf = tfidf_vectorizer.transform(xval)"
   ]
  },
  {
   "cell_type": "code",
   "execution_count": 24,
   "id": "49a23c22",
   "metadata": {},
   "outputs": [],
   "source": [
    "# start building prediction model\n",
    "\n",
    "lr = LogisticRegression()\n",
    "clf = OneVsRestClassifier(lr)"
   ]
  },
  {
   "cell_type": "code",
   "execution_count": 25,
   "id": "60c86002",
   "metadata": {},
   "outputs": [
    {
     "name": "stderr",
     "output_type": "stream",
     "text": [
      "/home/manthan/sportsseam/pyenv/ml/lib/python3.9/site-packages/sklearn/multiclass.py:79: UserWarning: Label not 2 is present in all training examples.\n",
      "  warnings.warn(\n"
     ]
    },
    {
     "data": {
      "text/plain": [
       "OneVsRestClassifier(estimator=LogisticRegression())"
      ]
     },
     "execution_count": 25,
     "metadata": {},
     "output_type": "execute_result"
    }
   ],
   "source": [
    "# Fir model\n",
    "clf.fit(xtrain_tfidf, ytrain)"
   ]
  },
  {
   "cell_type": "code",
   "execution_count": 26,
   "id": "82da7b12",
   "metadata": {},
   "outputs": [],
   "source": [
    "# predict\n",
    "y_pred = clf.predict(xval_tfidf)"
   ]
  },
  {
   "cell_type": "code",
   "execution_count": 27,
   "id": "8e0b5043",
   "metadata": {},
   "outputs": [
    {
     "data": {
      "text/plain": [
       "('Math', 'String')"
      ]
     },
     "execution_count": 27,
     "metadata": {},
     "output_type": "execute_result"
    }
   ],
   "source": [
    "multilabel_binarizer.inverse_transform(y_pred)[3]"
   ]
  },
  {
   "cell_type": "code",
   "execution_count": 28,
   "id": "617873ee",
   "metadata": {},
   "outputs": [
    {
     "data": {
      "text/plain": [
       "0.4698275862068966"
      ]
     },
     "execution_count": 28,
     "metadata": {},
     "output_type": "execute_result"
    }
   ],
   "source": [
    "# Evaluate performance\n",
    "f1_score(yval, y_pred, average=\"micro\")"
   ]
  },
  {
   "cell_type": "code",
   "execution_count": 29,
   "id": "51d52d2e",
   "metadata": {},
   "outputs": [],
   "source": [
    "# Set a threshold\n",
    "\n",
    "y_pred_prob = clf.predict_proba(xval_tfidf)"
   ]
  },
  {
   "cell_type": "code",
   "execution_count": 30,
   "id": "019ecbd9",
   "metadata": {},
   "outputs": [],
   "source": [
    "t = 0.3 # new value\n",
    "y_pred_new = (y_pred_prob >= t).astype(int)"
   ]
  },
  {
   "cell_type": "code",
   "execution_count": 31,
   "id": "48af6d56",
   "metadata": {},
   "outputs": [
    {
     "data": {
      "text/plain": [
       "0.5626134301270418"
      ]
     },
     "execution_count": 31,
     "metadata": {},
     "output_type": "execute_result"
    }
   ],
   "source": [
    "# new F1\n",
    "f1_score(yval, y_pred_new, average=\"micro\")"
   ]
  },
  {
   "cell_type": "markdown",
   "id": "d91c76de",
   "metadata": {},
   "source": [
    "### Inference"
   ]
  },
  {
   "cell_type": "code",
   "execution_count": 32,
   "id": "c2ccbe15",
   "metadata": {},
   "outputs": [],
   "source": [
    "def infer_tags(q):\n",
    "    q = clean_text(q)\n",
    "    q = remove_stopwords(q)\n",
    "    q_vec = tfidf_vectorizer.transform([q])\n",
    "    q_pred = clf.predict(q_vec)\n",
    "    return multilabel_binarizer.inverse_transform(q_pred)"
   ]
  },
  {
   "cell_type": "code",
   "execution_count": 33,
   "id": "01f4cf3a",
   "metadata": {},
   "outputs": [
    {
     "name": "stdout",
     "output_type": "stream",
     "text": [
      "Que:  number wonderful substringsa wonderful string string one letter appears odd number times given string word consists first ten lowercase english letters j return number wonderful non empty substrings word substring appears multiple times word count occurrence separately substring contiguous sequence characters string \n",
      "Predicted Topics:  [('String',)]\n",
      "Actual Topics:  ['Hash Table', 'String', 'Bit Manipulation', 'Prefix Sum'] \n",
      "\n",
      "Que:  palindrome partitioning iigiven string partition every substring partition palindrome return minimum cuts needed palindrome partitioning \n",
      "Predicted Topics:  [('String',)]\n",
      "Actual Topics:  ['String', 'Dynamic Programming'] \n",
      "\n",
      "Que:  largest component size common factoryou given integer array unique positive integers nums consider following graph return size largest connected component graph \n",
      "Predicted Topics:  [('Array',)]\n",
      "Actual Topics:  ['Array', 'Math', 'Union Find'] \n",
      "\n",
      "Que:  minimize deviation arrayyou given array nums n positive integers perform two types operations element array number times deviation array maximum difference two elements array return minimum deviation array performing number operations \n",
      "Predicted Topics:  [('Array',)]\n",
      "Actual Topics:  ['Array', 'Greedy', 'Heap (Priority Queue)', 'Ordered Set'] \n",
      "\n",
      "Que:  find peak elementa peak element element strictly greater neighbors given integer array nums find peak element return index array contains multiple peaks return index peaks may imagine nums nums n must write algorithm runs log n time \n",
      "Predicted Topics:  [('Array',)]\n",
      "Actual Topics:  ['Array', 'Binary Search'] \n",
      "\n"
     ]
    }
   ],
   "source": [
    "for i in range(5): \n",
    "    k = xval.sample(1).index[0] \n",
    "    print(\"Que: \", df['text_new'][k], \"\\nPredicted Topics: \", infer_tags(xval[k])), print(\"Actual Topics: \",df['topics_new'][k], \"\\n\")"
   ]
  },
  {
   "cell_type": "markdown",
   "id": "e98776e8",
   "metadata": {},
   "source": [
    "#### SVM Model"
   ]
  },
  {
   "cell_type": "code",
   "execution_count": 35,
   "id": "4b282261",
   "metadata": {},
   "outputs": [],
   "source": [
    "svm = LinearSVC(random_state=42)"
   ]
  },
  {
   "cell_type": "code",
   "execution_count": 36,
   "id": "f7267a3f",
   "metadata": {},
   "outputs": [],
   "source": [
    "clf_svm = OneVsRestClassifier(svm)"
   ]
  },
  {
   "cell_type": "code",
   "execution_count": 37,
   "id": "a8639b04",
   "metadata": {},
   "outputs": [
    {
     "name": "stderr",
     "output_type": "stream",
     "text": [
      "/home/manthan/sportsseam/pyenv/ml/lib/python3.9/site-packages/sklearn/multiclass.py:79: UserWarning: Label not 2 is present in all training examples.\n",
      "  warnings.warn(\n"
     ]
    }
   ],
   "source": [
    "# fit\n",
    "clf_svm = clf_svm.fit(xtrain_tfidf, ytrain)"
   ]
  },
  {
   "cell_type": "code",
   "execution_count": 38,
   "id": "057af6b6",
   "metadata": {},
   "outputs": [],
   "source": [
    "y_pred = clf_svm.predict(xval_tfidf)"
   ]
  },
  {
   "cell_type": "code",
   "execution_count": 39,
   "id": "43310cdb",
   "metadata": {},
   "outputs": [
    {
     "data": {
      "text/plain": [
       "0.5912408759124087"
      ]
     },
     "execution_count": 39,
     "metadata": {},
     "output_type": "execute_result"
    }
   ],
   "source": [
    "# Evaluate performance\n",
    "f1_score(yval, y_pred, average=\"micro\")"
   ]
  },
  {
   "cell_type": "code",
   "execution_count": null,
   "id": "5d56fc9c",
   "metadata": {},
   "outputs": [],
   "source": []
  }
 ],
 "metadata": {
  "kernelspec": {
   "display_name": "Python 3 (ipykernel)",
   "language": "python",
   "name": "python3"
  },
  "language_info": {
   "codemirror_mode": {
    "name": "ipython",
    "version": 3
   },
   "file_extension": ".py",
   "mimetype": "text/x-python",
   "name": "python",
   "nbconvert_exporter": "python",
   "pygments_lexer": "ipython3",
   "version": "3.9.7"
  }
 },
 "nbformat": 4,
 "nbformat_minor": 5
}
